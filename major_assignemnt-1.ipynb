{
 "cells": [
  {
   "cell_type": "code",
   "execution_count": 1,
   "id": "f8e44658",
   "metadata": {},
   "outputs": [
    {
     "name": "stdout",
     "output_type": "stream",
     "text": [
      "Requirement already satisfied: opencv-python in c:\\users\\aashi\\anaconda3\\envs\\tensorflow\\lib\\site-packages (4.5.5.64)\n",
      "Requirement already satisfied: numpy>=1.14.5 in c:\\users\\aashi\\anaconda3\\envs\\tensorflow\\lib\\site-packages (from opencv-python) (1.21.5)\n",
      "Note: you may need to restart the kernel to use updated packages.\n"
     ]
    },
    {
     "name": "stderr",
     "output_type": "stream",
     "text": [
      "WARNING: Ignoring invalid distribution -oogle-auth (c:\\users\\aashi\\anaconda3\\envs\\tensorflow\\lib\\site-packages)\n",
      "WARNING: Ignoring invalid distribution -oogle-auth (c:\\users\\aashi\\anaconda3\\envs\\tensorflow\\lib\\site-packages)\n",
      "WARNING: Ignoring invalid distribution -oogle-auth (c:\\users\\aashi\\anaconda3\\envs\\tensorflow\\lib\\site-packages)\n",
      "WARNING: Ignoring invalid distribution -oogle-auth (c:\\users\\aashi\\anaconda3\\envs\\tensorflow\\lib\\site-packages)\n",
      "WARNING: Ignoring invalid distribution -oogle-auth (c:\\users\\aashi\\anaconda3\\envs\\tensorflow\\lib\\site-packages)\n",
      "WARNING: Ignoring invalid distribution -oogle-auth (c:\\users\\aashi\\anaconda3\\envs\\tensorflow\\lib\\site-packages)\n"
     ]
    }
   ],
   "source": [
    "pip install opencv-python"
   ]
  },
  {
   "cell_type": "code",
   "execution_count": 2,
   "id": "4a3602f7",
   "metadata": {},
   "outputs": [],
   "source": [
    "import cv2\n",
    "from tensorflow.keras.models import load_model\n",
    "from keras.preprocessing.image import load_img,img_to_array\n",
    "import numpy as np\n",
    "model=load_model('saved_model-220321-141612.h5')\n",
    "img_width , img_height = 150,150\n",
    "face_cascade = cv2.CascadeClassifier('haarcascade_frontalface_default.xml')\n",
    "cap=cv2.VideoCapture('video.mp4')\n",
    "#cap=cv2.VideoCapture(0)\n",
    "img_count_full=0\n",
    "font=cv2.FONT_HERSHEY_SIMPLEX\n",
    "ord=(1,1)\n",
    "class_label=''\n",
    "fontScale=1\n",
    "color=(255,0,0)\n",
    "thickness=2\n",
    "while True:\n",
    "    \n",
    "    img_count_full +=1\n",
    "    response , color_img=cap.read()\n",
    "\n",
    "    if response == False:\n",
    "        break\n",
    "\n",
    "        scale = 50\n",
    "        width = int(color_img.shape[1]*scale/100)\n",
    "        height = int(color_img.shape[0]*scale/100)\n",
    "        dim = (width,height)\n",
    "\n",
    "        color_img = cv2.resize(color_img, dim, interpolation = cv2.INTER_AREA)\n",
    "\n",
    "        gray_img = cv2.cvtColor(color_img,cv2.COLOR_BGR2GRAY)\n",
    "\n",
    "        faces = face_cascade.detectMultiScale(gray_img,1.1,6)\n",
    "\n",
    "        img_count=0\n",
    "        for(x,y,w,h) in faces:\n",
    "            org = (x-10,y-10)\n",
    "            img_count += 1\n",
    "            color_face = color_img[y:y+h,x:x+w]\n",
    "            cv2.imwrite('input%d%dface.jpg'%(img_count_full,img_count),color_face)\n",
    "            img = load_img('input%d%dface.jpg'%(img_count_full,img_count),target_size=(img_widt,img_height))\n",
    "            img = img_to_array(img)\n",
    "            img = np.expand_dims(img,axis=0)\n",
    "            prediction = model.predict(img)\n",
    "\n",
    "            if prediction == 0:\n",
    "                class_label = \"Mask\"\n",
    "                color = (0,255,0) \n",
    "\n",
    "            else:\n",
    "                                                                                       \n",
    "                class_label = \"No Mask\"\n",
    "                color = (0,0,255) \n",
    "            cv2.rectangle(color_img,(x,y),(x+w,y+h),(255,0,0),3) #BLACK RECTANGLE\n",
    "            cv2.putText(color_img,class_label,org,font,fontScale,color,thickness,cv2.LINE_AA)\n",
    "                                                                                       \n",
    "        cv2.imshow('Face mask detection',color_img)\n",
    "\n",
    "        key=cv2.waitKey(1)\n",
    "\n",
    "        if key == 113:\n",
    "            break\n",
    "\n",
    "cap.release()\n",
    "cv2.destroyAllWindows()"
   ]
  },
  {
   "cell_type": "code",
   "execution_count": null,
   "id": "19daab7c",
   "metadata": {},
   "outputs": [],
   "source": [
    "\n",
    "\n",
    "\n",
    "            \n",
    "    \n",
    "    \n",
    "    "
   ]
  },
  {
   "cell_type": "code",
   "execution_count": null,
   "id": "b10558f1",
   "metadata": {},
   "outputs": [],
   "source": []
  }
 ],
 "metadata": {
  "kernelspec": {
   "display_name": "Python 3 (ipykernel)",
   "language": "python",
   "name": "python3"
  },
  "language_info": {
   "codemirror_mode": {
    "name": "ipython",
    "version": 3
   },
   "file_extension": ".py",
   "mimetype": "text/x-python",
   "name": "python",
   "nbconvert_exporter": "python",
   "pygments_lexer": "ipython3",
   "version": "3.9.7"
  }
 },
 "nbformat": 4,
 "nbformat_minor": 5
}
