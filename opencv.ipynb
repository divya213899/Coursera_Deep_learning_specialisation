{
 "cells": [
  {
   "cell_type": "code",
   "execution_count": null,
   "id": "7b2f1411",
   "metadata": {},
   "outputs": [],
   "source": []
  },
  {
   "cell_type": "code",
   "execution_count": 2,
   "id": "fe11da69",
   "metadata": {},
   "outputs": [
    {
     "name": "stdout",
     "output_type": "stream",
     "text": [
      "Requirement already satisfied: keras in c:\\users\\aashi\\anaconda3\\envs\\tensorflow\\lib\\site-packages (2.6.0)Note: you may need to restart the kernel to use updated packages.\n"
     ]
    },
    {
     "name": "stderr",
     "output_type": "stream",
     "text": [
      "WARNING: Ignoring invalid distribution -oogle-auth (c:\\users\\aashi\\anaconda3\\envs\\tensorflow\\lib\\site-packages)\n",
      "WARNING: Ignoring invalid distribution -oogle-auth (c:\\users\\aashi\\anaconda3\\envs\\tensorflow\\lib\\site-packages)\n",
      "WARNING: Ignoring invalid distribution -oogle-auth (c:\\users\\aashi\\anaconda3\\envs\\tensorflow\\lib\\site-packages)\n",
      "WARNING: Ignoring invalid distribution -oogle-auth (c:\\users\\aashi\\anaconda3\\envs\\tensorflow\\lib\\site-packages)\n",
      "WARNING: Ignoring invalid distribution -oogle-auth (c:\\users\\aashi\\anaconda3\\envs\\tensorflow\\lib\\site-packages)\n"
     ]
    },
    {
     "name": "stdout",
     "output_type": "stream",
     "text": [
      "\n"
     ]
    },
    {
     "name": "stderr",
     "output_type": "stream",
     "text": [
      "WARNING: Ignoring invalid distribution -oogle-auth (c:\\users\\aashi\\anaconda3\\envs\\tensorflow\\lib\\site-packages)\n"
     ]
    }
   ],
   "source": [
    "pip install keras"
   ]
  },
  {
   "cell_type": "code",
   "execution_count": 1,
   "id": "ad1f83b8",
   "metadata": {},
   "outputs": [
    {
     "name": "stdout",
     "output_type": "stream",
     "text": [
      "\n",
      "Note: you may need to restart the kernel to use updated packages.\n"
     ]
    },
    {
     "name": "stderr",
     "output_type": "stream",
     "text": [
      "'conda' is not recognized as an internal or external command,\n",
      "operable program or batch file.\n"
     ]
    }
   ],
   "source": [
    "conda --version"
   ]
  },
  {
   "cell_type": "code",
   "execution_count": 3,
   "id": "b023694f",
   "metadata": {},
   "outputs": [
    {
     "name": "stdout",
     "output_type": "stream",
     "text": [
      "Requirement already satisfied: opencv-python in c:\\users\\aashi\\anaconda3\\envs\\tensorflow\\lib\\site-packages (4.5.5.64)\n",
      "Note: you may need to restart the kernel to use updated packages.\n"
     ]
    },
    {
     "name": "stderr",
     "output_type": "stream",
     "text": [
      "WARNING: Ignoring invalid distribution -oogle-auth (c:\\users\\aashi\\anaconda3\\envs\\tensorflow\\lib\\site-packages)\n",
      "WARNING: Ignoring invalid distribution -oogle-auth (c:\\users\\aashi\\anaconda3\\envs\\tensorflow\\lib\\site-packages)\n",
      "ERROR: Could not find a version that satisfies the requirement as (from versions: none)\n",
      "ERROR: No matching distribution found for as\n",
      "WARNING: Ignoring invalid distribution -oogle-auth (c:\\users\\aashi\\anaconda3\\envs\\tensorflow\\lib\\site-packages)\n",
      "WARNING: Ignoring invalid distribution -oogle-auth (c:\\users\\aashi\\anaconda3\\envs\\tensorflow\\lib\\site-packages)\n",
      "WARNING: Ignoring invalid distribution -oogle-auth (c:\\users\\aashi\\anaconda3\\envs\\tensorflow\\lib\\site-packages)\n"
     ]
    }
   ],
   "source": [
    "pip install opencv-python as cv2"
   ]
  },
  {
   "cell_type": "markdown",
   "id": "63c81897",
   "metadata": {},
   "source": []
  },
  {
   "cell_type": "code",
   "execution_count": 4,
   "id": "89699e2e",
   "metadata": {},
   "outputs": [],
   "source": [
    "import cv2\n"
   ]
  },
  {
   "cell_type": "code",
   "execution_count": 2,
   "id": "9e9b9cf2",
   "metadata": {},
   "outputs": [],
   "source": [
    "import cv2\n",
    "#path=r'C:\\Users\\Aashi\\Downloads\\bella.jpg'\n",
    "img=cv2.imread('christmas.jpeg',0)\n",
    "cv2.imshow('freinds',img)\n",
    "cv2.waitKey(0)\n",
    "cv2.destroyAllWindows()"
   ]
  },
  {
   "cell_type": "code",
   "execution_count": 4,
   "id": "0d2e29bb",
   "metadata": {},
   "outputs": [],
   "source": [
    "import cv2\n",
    "img=cv2.imread('twilight.jpg',1)\n",
    "img=cv2.cvtColor(img,cv2.COLOR_BGRA2RGBA)\n",
    "cv2.imshow('twilight',img)\n",
    "cv2.waitKey(0)\n",
    "cv2.destroyAllWindows()"
   ]
  },
  {
   "cell_type": "markdown",
   "id": "6255a698",
   "metadata": {},
   "source": [
    "# VIDEO CAPTURE"
   ]
  },
  {
   "cell_type": "code",
   "execution_count": 5,
   "id": "a9d9b28d",
   "metadata": {},
   "outputs": [],
   "source": [
    "import cv2\n",
    "cap=cv2.VideoCapture(\"mask.mp4\")\n",
    "while(cap.isOpened()):\n",
    "    ret,frame =cap.read()\n",
    "    if(ret==True):\n",
    "        cv2.imshow('frames',frame)\n",
    "    \n",
    "        if(cv2.waitKey(0) & 0xFF== ord('a')):\n",
    "            break\n",
    "    else :\n",
    "        break\n",
    "cap.release()\n",
    "cv2.destroyAllWindows()"
   ]
  },
  {
   "cell_type": "markdown",
   "id": "f9cd9654",
   "metadata": {},
   "source": [
    "# BLURRING"
   ]
  },
  {
   "cell_type": "code",
   "execution_count": 9,
   "id": "0aa2c759",
   "metadata": {},
   "outputs": [],
   "source": [
    "import cv2\n",
    "img=cv2.imread('twilight.jpg',1)\n",
    "cv2.imshow('orignal',img)\n",
    "cv2.waitKey(0)\n",
    "blurr=cv2.blur(img,(100,1))\n",
    "cv2.imshow('blurr',blurr)\n",
    "cv2.waitKey(0)\n",
    "cv2.destroyAllWindows()"
   ]
  },
  {
   "cell_type": "markdown",
   "id": "aa78646a",
   "metadata": {},
   "source": [
    "# IMAGE WRITE\n"
   ]
  },
  {
   "cell_type": "code",
   "execution_count": 6,
   "id": "f50750bb",
   "metadata": {},
   "outputs": [],
   "source": [
    "import cv2\n",
    "img=cv2.imread('twilight.jpg',1)\n",
    "img_grey=cv2.cvtColor(img,cv2.COLOR_BGR2GRAY)\n",
    "img_rename=cv2.imwrite('edward.jpg',img_grey)"
   ]
  },
  {
   "cell_type": "markdown",
   "id": "1cd52d91",
   "metadata": {},
   "source": [
    "# LINES ON IMAGE"
   ]
  },
  {
   "cell_type": "code",
   "execution_count": 7,
   "id": "5658c398",
   "metadata": {},
   "outputs": [],
   "source": [
    "import cv2\n",
    "img=cv2.imread('twilight.jpg',1)\n",
    "start_point=(0,0)\n",
    "end_point=(10000000,10000000)\n",
    "color=(0,0,255)\n",
    "thickness=9\n",
    "image=cv2.line(img,start_point,end_point,color,thickness)\n",
    "cv2.imshow('image',image)\n",
    "cv2.waitKey(0)\n",
    "cv2.destroyAllWindows()"
   ]
  },
  {
   "cell_type": "markdown",
   "id": "2c170ab4",
   "metadata": {},
   "source": [
    "# CIRCLES ON IMAGE"
   ]
  },
  {
   "cell_type": "code",
   "execution_count": 8,
   "id": "eb9573fb",
   "metadata": {},
   "outputs": [],
   "source": [
    "import cv2\n",
    "img=cv2.imread('twilight.jpg',1)\n",
    "centre=(500,50)\n",
    "r=100\n",
    "color=(0,100,255)\n",
    "thickness=2\n",
    "image=cv2.circle(img,centre,r,color,thickness)\n",
    "cv2.imshow('image',image)\n",
    "cv2.waitKey(0)\n",
    "cv2.destroyAllWindows()"
   ]
  },
  {
   "cell_type": "code",
   "execution_count": null,
   "id": "a68e180a",
   "metadata": {},
   "outputs": [],
   "source": []
  }
 ],
 "metadata": {
  "kernelspec": {
   "display_name": "Python 3 (ipykernel)",
   "language": "python",
   "name": "python3"
  },
  "language_info": {
   "codemirror_mode": {
    "name": "ipython",
    "version": 3
   },
   "file_extension": ".py",
   "mimetype": "text/x-python",
   "name": "python",
   "nbconvert_exporter": "python",
   "pygments_lexer": "ipython3",
   "version": "3.9.7"
  }
 },
 "nbformat": 4,
 "nbformat_minor": 5
}
